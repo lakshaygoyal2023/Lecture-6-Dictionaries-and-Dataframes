{
 "cells": [
  {
   "cell_type": "markdown",
   "id": "189ceaa0",
   "metadata": {},
   "source": [
    "# Lecture 6 Dictionaries and Dataframes\n",
    "- Student Name: Lakshay Goyal\n",
    "- Division: A"
   ]
  },
  {
   "cell_type": "markdown",
   "id": "c516a075",
   "metadata": {},
   "source": [
    "# Dictionaries"
   ]
  },
  {
   "cell_type": "code",
   "execution_count": 1,
   "id": "ebe35077",
   "metadata": {},
   "outputs": [
    {
     "data": {
      "text/plain": [
       "{'name': 'Lakshay Goyal',\n",
       " 'age': 19,\n",
       " 'division': 'A',\n",
       " 'favorite_movies': ['Spiderman', 'Marvel', 'Inception'],\n",
       " 'favorite_songs': ['Aadat', 'Aabaad', 'Tere Bin']}"
      ]
     },
     "execution_count": 1,
     "metadata": {},
     "output_type": "execute_result"
    }
   ],
   "source": [
    "myself = {\"name\": \"Lakshay Goyal\",\n",
    "         \"age\": 19,\n",
    "         \"division\": \"A\",\n",
    "         \"favorite_movies\": [\"Spiderman\", \"Marvel\", \"Inception\"],\n",
    "         \"favorite_songs\": [\"Aadat\", \"Aabaad\", \"Tere Bin\"],\n",
    "         }\n",
    "myself"
   ]
  },
  {
   "cell_type": "code",
   "execution_count": 2,
   "id": "1f3113f6",
   "metadata": {},
   "outputs": [
    {
     "data": {
      "text/plain": [
       "{'name': 'Lakshay Goyal',\n",
       " 'age': 19,\n",
       " 'division': 'A',\n",
       " 'favorite_movies': ['Spiderman', 'Marvel', 'Inception'],\n",
       " 'favorite_songs': ['Aadat', 'Aabaad', 'Tere Bin'],\n",
       " 'favorite_foods': ['Pav bhaji', 'Pizza', 'Pasta']}"
      ]
     },
     "execution_count": 2,
     "metadata": {},
     "output_type": "execute_result"
    }
   ],
   "source": [
    "# Add new key\n",
    "myself[\"favorite_foods\"] = [\"Pav bhaji\", \"Pizza\", \"Pasta\"]\n",
    "myself"
   ]
  },
  {
   "cell_type": "code",
   "execution_count": 3,
   "id": "795623d1",
   "metadata": {},
   "outputs": [
    {
     "data": {
      "text/plain": [
       "{'name': 'Lakshay Goyal',\n",
       " 'age': 19,\n",
       " 'division': 'E',\n",
       " 'favorite_movies': ['Spiderman', 'Marvel', 'Inception'],\n",
       " 'favorite_songs': ['Aadat', 'Aabaad', 'Tere Bin'],\n",
       " 'favorite_foods': ['Pav bhaji', 'Pizza', 'Pasta']}"
      ]
     },
     "execution_count": 3,
     "metadata": {},
     "output_type": "execute_result"
    }
   ],
   "source": [
    "myself[\"division\"] = \"E\"\n",
    "myself"
   ]
  },
  {
   "cell_type": "code",
   "execution_count": 4,
   "id": "ca6362df",
   "metadata": {},
   "outputs": [
    {
     "data": {
      "text/plain": [
       "{'name': 'Lakshay Goyal',\n",
       " 'age': 19,\n",
       " 'division': 'E',\n",
       " 'favorite_movies': ['Spiderman', 'Marvel', 'Inception', 'GodFather'],\n",
       " 'favorite_songs': ['Aadat', 'Aabaad', 'Tere Bin'],\n",
       " 'favorite_foods': ['Pav bhaji', 'Pizza', 'Pasta']}"
      ]
     },
     "execution_count": 4,
     "metadata": {},
     "output_type": "execute_result"
    }
   ],
   "source": [
    "# Add value to the list of movies\n",
    "myself[\"favorite_movies\"].append(\"GodFather\")\n",
    "myself"
   ]
  },
  {
   "cell_type": "code",
   "execution_count": 5,
   "id": "8214f0fa",
   "metadata": {},
   "outputs": [
    {
     "data": {
      "text/plain": [
       "{'name': 'Lakshay Goyal',\n",
       " 'age': 19,\n",
       " 'division': 'E',\n",
       " 'favorite_movies': ['Spiderman', 'Marvel', 'Inception', 'GodFather'],\n",
       " 'favorite_songs': ['Aabaad', 'Tere Bin'],\n",
       " 'favorite_foods': ['Pav bhaji', 'Pizza', 'Pasta']}"
      ]
     },
     "execution_count": 5,
     "metadata": {},
     "output_type": "execute_result"
    }
   ],
   "source": [
    "# Remove the \"Aadat song\"\n",
    "myself[\"favorite_songs\"].remove(\"Aadat\")\n",
    "myself"
   ]
  },
  {
   "cell_type": "code",
   "execution_count": 19,
   "id": "7a37c71a",
   "metadata": {},
   "outputs": [
    {
     "data": {
      "text/plain": [
       "1"
      ]
     },
     "execution_count": 19,
     "metadata": {},
     "output_type": "execute_result"
    }
   ],
   "source": [
    "#Get Index number\n",
    "myself[\"favorite_movies\"] .index(\"Marvel\")"
   ]
  },
  {
   "cell_type": "code",
   "execution_count": 7,
   "id": "29b7fa8b",
   "metadata": {},
   "outputs": [
    {
     "data": {
      "text/plain": [
       "6"
      ]
     },
     "execution_count": 7,
     "metadata": {},
     "output_type": "execute_result"
    }
   ],
   "source": [
    "# Count total keys\n",
    "total_keys_in_myself = len(myself)\n",
    "total_keys_in_myself"
   ]
  },
  {
   "cell_type": "code",
   "execution_count": 8,
   "id": "0659c4ce",
   "metadata": {},
   "outputs": [
    {
     "data": {
      "text/plain": [
       "4"
      ]
     },
     "execution_count": 8,
     "metadata": {},
     "output_type": "execute_result"
    }
   ],
   "source": [
    "# Count total values in list\n",
    "total_movies_in_myself = len(myself[\"favorite_movies\"])\n",
    "total_movies_in_myself"
   ]
  },
  {
   "cell_type": "code",
   "execution_count": 9,
   "id": "efa19828",
   "metadata": {},
   "outputs": [],
   "source": [
    "div_scores_dictionary = {\"student_name\": [\"Jay\", \"Aaryan\", \"Sahil\",\"Riya\",\"Shubh\"],\n",
    "                         \"math_scores\": [20,56,76,78,90],\n",
    "                         \"chemistry_scores\": [32,36,78,23,100],\n",
    "                         \"information_technology_scores\": [34,6,88,100,45],\n",
    "                         \"physics_scores\": [6,88,48,90,25]\n",
    "                         }\n",
    "                         \n",
    "div_emails_dictionary = {\"student_name\": [\"Jay\", \"Aaryan\", \"Sahil\",\"Riya\",\"Shubh\", \"Abdul\"],\n",
    "                           \"student_email\": [\"Jay@gmail.com\", \"Aaryan@gmail.com\", \"Sahil@gmail.com\",\"Riya@gmail.com\",\"Shubh@gmail.com\", \"Abdual@gmail.com\"]\n",
    "                         }"
   ]
  },
  {
   "cell_type": "markdown",
   "id": "1a9b36be",
   "metadata": {},
   "source": [
    "# Dataframes"
   ]
  },
  {
   "cell_type": "code",
   "execution_count": 10,
   "id": "30d89601",
   "metadata": {},
   "outputs": [],
   "source": [
    "# Setup\n",
    "import pandas as pd"
   ]
  },
  {
   "cell_type": "code",
   "execution_count": 11,
   "id": "05e2d0a6",
   "metadata": {},
   "outputs": [
    {
     "data": {
      "text/html": [
       "<div>\n",
       "<style scoped>\n",
       "    .dataframe tbody tr th:only-of-type {\n",
       "        vertical-align: middle;\n",
       "    }\n",
       "\n",
       "    .dataframe tbody tr th {\n",
       "        vertical-align: top;\n",
       "    }\n",
       "\n",
       "    .dataframe thead th {\n",
       "        text-align: right;\n",
       "    }\n",
       "</style>\n",
       "<table border=\"1\" class=\"dataframe\">\n",
       "  <thead>\n",
       "    <tr style=\"text-align: right;\">\n",
       "      <th></th>\n",
       "      <th>student_name</th>\n",
       "      <th>math_scores</th>\n",
       "      <th>chemistry_scores</th>\n",
       "      <th>information_technology_scores</th>\n",
       "      <th>physics_scores</th>\n",
       "    </tr>\n",
       "  </thead>\n",
       "  <tbody>\n",
       "    <tr>\n",
       "      <th>0</th>\n",
       "      <td>Jay</td>\n",
       "      <td>20</td>\n",
       "      <td>32</td>\n",
       "      <td>34</td>\n",
       "      <td>6</td>\n",
       "    </tr>\n",
       "    <tr>\n",
       "      <th>1</th>\n",
       "      <td>Aaryan</td>\n",
       "      <td>56</td>\n",
       "      <td>36</td>\n",
       "      <td>6</td>\n",
       "      <td>88</td>\n",
       "    </tr>\n",
       "    <tr>\n",
       "      <th>2</th>\n",
       "      <td>Sahil</td>\n",
       "      <td>76</td>\n",
       "      <td>78</td>\n",
       "      <td>88</td>\n",
       "      <td>48</td>\n",
       "    </tr>\n",
       "    <tr>\n",
       "      <th>3</th>\n",
       "      <td>Riya</td>\n",
       "      <td>78</td>\n",
       "      <td>23</td>\n",
       "      <td>100</td>\n",
       "      <td>90</td>\n",
       "    </tr>\n",
       "    <tr>\n",
       "      <th>4</th>\n",
       "      <td>Shubh</td>\n",
       "      <td>90</td>\n",
       "      <td>100</td>\n",
       "      <td>45</td>\n",
       "      <td>25</td>\n",
       "    </tr>\n",
       "  </tbody>\n",
       "</table>\n",
       "</div>"
      ],
      "text/plain": [
       "  student_name  math_scores  chemistry_scores  information_technology_scores  \\\n",
       "0          Jay           20                32                             34   \n",
       "1       Aaryan           56                36                              6   \n",
       "2        Sahil           76                78                             88   \n",
       "3         Riya           78                23                            100   \n",
       "4        Shubh           90               100                             45   \n",
       "\n",
       "   physics_scores  \n",
       "0               6  \n",
       "1              88  \n",
       "2              48  \n",
       "3              90  \n",
       "4              25  "
      ]
     },
     "execution_count": 11,
     "metadata": {},
     "output_type": "execute_result"
    }
   ],
   "source": [
    "# Convert the score dictionary into a dataframe\n",
    "scores_df = pd.DataFrame(div_scores_dictionary)\n",
    "scores_df"
   ]
  },
  {
   "cell_type": "code",
   "execution_count": 13,
   "id": "ecc57f20",
   "metadata": {},
   "outputs": [
    {
     "data": {
      "text/html": [
       "<div>\n",
       "<style scoped>\n",
       "    .dataframe tbody tr th:only-of-type {\n",
       "        vertical-align: middle;\n",
       "    }\n",
       "\n",
       "    .dataframe tbody tr th {\n",
       "        vertical-align: top;\n",
       "    }\n",
       "\n",
       "    .dataframe thead th {\n",
       "        text-align: right;\n",
       "    }\n",
       "</style>\n",
       "<table border=\"1\" class=\"dataframe\">\n",
       "  <thead>\n",
       "    <tr style=\"text-align: right;\">\n",
       "      <th></th>\n",
       "      <th>student_name</th>\n",
       "      <th>math_scores</th>\n",
       "      <th>chemistry_scores</th>\n",
       "      <th>information_technology_scores</th>\n",
       "      <th>physics_scores</th>\n",
       "    </tr>\n",
       "  </thead>\n",
       "  <tbody>\n",
       "    <tr>\n",
       "      <th>0</th>\n",
       "      <td>Jay</td>\n",
       "      <td>20</td>\n",
       "      <td>32</td>\n",
       "      <td>34</td>\n",
       "      <td>6</td>\n",
       "    </tr>\n",
       "    <tr>\n",
       "      <th>1</th>\n",
       "      <td>Aaryan</td>\n",
       "      <td>56</td>\n",
       "      <td>36</td>\n",
       "      <td>6</td>\n",
       "      <td>88</td>\n",
       "    </tr>\n",
       "    <tr>\n",
       "      <th>2</th>\n",
       "      <td>Sahil</td>\n",
       "      <td>76</td>\n",
       "      <td>78</td>\n",
       "      <td>88</td>\n",
       "      <td>48</td>\n",
       "    </tr>\n",
       "  </tbody>\n",
       "</table>\n",
       "</div>"
      ],
      "text/plain": [
       "  student_name  math_scores  chemistry_scores  information_technology_scores  \\\n",
       "0          Jay           20                32                             34   \n",
       "1       Aaryan           56                36                              6   \n",
       "2        Sahil           76                78                             88   \n",
       "\n",
       "   physics_scores  \n",
       "0               6  \n",
       "1              88  \n",
       "2              48  "
      ]
     },
     "execution_count": 13,
     "metadata": {},
     "output_type": "execute_result"
    }
   ],
   "source": [
    "# First 3 Rows in dataframe\n",
    "scores_df.head(3)"
   ]
  },
  {
   "cell_type": "code",
   "execution_count": 14,
   "id": "03aa4106",
   "metadata": {},
   "outputs": [
    {
     "data": {
      "text/html": [
       "<div>\n",
       "<style scoped>\n",
       "    .dataframe tbody tr th:only-of-type {\n",
       "        vertical-align: middle;\n",
       "    }\n",
       "\n",
       "    .dataframe tbody tr th {\n",
       "        vertical-align: top;\n",
       "    }\n",
       "\n",
       "    .dataframe thead th {\n",
       "        text-align: right;\n",
       "    }\n",
       "</style>\n",
       "<table border=\"1\" class=\"dataframe\">\n",
       "  <thead>\n",
       "    <tr style=\"text-align: right;\">\n",
       "      <th></th>\n",
       "      <th>student_name</th>\n",
       "      <th>math_scores</th>\n",
       "      <th>chemistry_scores</th>\n",
       "      <th>information_technology_scores</th>\n",
       "      <th>physics_scores</th>\n",
       "    </tr>\n",
       "  </thead>\n",
       "  <tbody>\n",
       "    <tr>\n",
       "      <th>2</th>\n",
       "      <td>Sahil</td>\n",
       "      <td>76</td>\n",
       "      <td>78</td>\n",
       "      <td>88</td>\n",
       "      <td>48</td>\n",
       "    </tr>\n",
       "    <tr>\n",
       "      <th>1</th>\n",
       "      <td>Aaryan</td>\n",
       "      <td>56</td>\n",
       "      <td>36</td>\n",
       "      <td>6</td>\n",
       "      <td>88</td>\n",
       "    </tr>\n",
       "    <tr>\n",
       "      <th>3</th>\n",
       "      <td>Riya</td>\n",
       "      <td>78</td>\n",
       "      <td>23</td>\n",
       "      <td>100</td>\n",
       "      <td>90</td>\n",
       "    </tr>\n",
       "  </tbody>\n",
       "</table>\n",
       "</div>"
      ],
      "text/plain": [
       "  student_name  math_scores  chemistry_scores  information_technology_scores  \\\n",
       "2        Sahil           76                78                             88   \n",
       "1       Aaryan           56                36                              6   \n",
       "3         Riya           78                23                            100   \n",
       "\n",
       "   physics_scores  \n",
       "2              48  \n",
       "1              88  \n",
       "3              90  "
      ]
     },
     "execution_count": 14,
     "metadata": {},
     "output_type": "execute_result"
    }
   ],
   "source": [
    "# 3 Random Rows from the dataframe\n",
    "scores_df.sample(3)"
   ]
  },
  {
   "cell_type": "code",
   "execution_count": 15,
   "id": "2662beb7",
   "metadata": {},
   "outputs": [
    {
     "data": {
      "text/html": [
       "<div>\n",
       "<style scoped>\n",
       "    .dataframe tbody tr th:only-of-type {\n",
       "        vertical-align: middle;\n",
       "    }\n",
       "\n",
       "    .dataframe tbody tr th {\n",
       "        vertical-align: top;\n",
       "    }\n",
       "\n",
       "    .dataframe thead th {\n",
       "        text-align: right;\n",
       "    }\n",
       "</style>\n",
       "<table border=\"1\" class=\"dataframe\">\n",
       "  <thead>\n",
       "    <tr style=\"text-align: right;\">\n",
       "      <th></th>\n",
       "      <th>student_name</th>\n",
       "      <th>math_scores</th>\n",
       "      <th>chemistry_scores</th>\n",
       "      <th>information_technology_scores</th>\n",
       "      <th>physics_scores</th>\n",
       "      <th>total_score</th>\n",
       "    </tr>\n",
       "  </thead>\n",
       "  <tbody>\n",
       "    <tr>\n",
       "      <th>0</th>\n",
       "      <td>Jay</td>\n",
       "      <td>20</td>\n",
       "      <td>32</td>\n",
       "      <td>34</td>\n",
       "      <td>6</td>\n",
       "      <td>92</td>\n",
       "    </tr>\n",
       "    <tr>\n",
       "      <th>1</th>\n",
       "      <td>Aaryan</td>\n",
       "      <td>56</td>\n",
       "      <td>36</td>\n",
       "      <td>6</td>\n",
       "      <td>88</td>\n",
       "      <td>186</td>\n",
       "    </tr>\n",
       "    <tr>\n",
       "      <th>2</th>\n",
       "      <td>Sahil</td>\n",
       "      <td>76</td>\n",
       "      <td>78</td>\n",
       "      <td>88</td>\n",
       "      <td>48</td>\n",
       "      <td>290</td>\n",
       "    </tr>\n",
       "    <tr>\n",
       "      <th>3</th>\n",
       "      <td>Riya</td>\n",
       "      <td>78</td>\n",
       "      <td>23</td>\n",
       "      <td>100</td>\n",
       "      <td>90</td>\n",
       "      <td>291</td>\n",
       "    </tr>\n",
       "    <tr>\n",
       "      <th>4</th>\n",
       "      <td>Shubh</td>\n",
       "      <td>90</td>\n",
       "      <td>100</td>\n",
       "      <td>45</td>\n",
       "      <td>25</td>\n",
       "      <td>260</td>\n",
       "    </tr>\n",
       "  </tbody>\n",
       "</table>\n",
       "</div>"
      ],
      "text/plain": [
       "  student_name  math_scores  chemistry_scores  information_technology_scores  \\\n",
       "0          Jay           20                32                             34   \n",
       "1       Aaryan           56                36                              6   \n",
       "2        Sahil           76                78                             88   \n",
       "3         Riya           78                23                            100   \n",
       "4        Shubh           90               100                             45   \n",
       "\n",
       "   physics_scores  total_score  \n",
       "0               6           92  \n",
       "1              88          186  \n",
       "2              48          290  \n",
       "3              90          291  \n",
       "4              25          260  "
      ]
     },
     "execution_count": 15,
     "metadata": {},
     "output_type": "execute_result"
    }
   ],
   "source": [
    "# Create a column called total score that added the scores for all the 4 subjects\n",
    "scores_df[\"total_score\"] = scores_df[\"math_scores\"]+ scores_df[\"chemistry_scores\"]+scores_df[\"information_technology_scores\"]+scores_df[\"physics_scores\"]\n",
    "scores_df"
   ]
  },
  {
   "cell_type": "code",
   "execution_count": 16,
   "id": "66824853",
   "metadata": {},
   "outputs": [
    {
     "data": {
      "text/html": [
       "<div>\n",
       "<style scoped>\n",
       "    .dataframe tbody tr th:only-of-type {\n",
       "        vertical-align: middle;\n",
       "    }\n",
       "\n",
       "    .dataframe tbody tr th {\n",
       "        vertical-align: top;\n",
       "    }\n",
       "\n",
       "    .dataframe thead th {\n",
       "        text-align: right;\n",
       "    }\n",
       "</style>\n",
       "<table border=\"1\" class=\"dataframe\">\n",
       "  <thead>\n",
       "    <tr style=\"text-align: right;\">\n",
       "      <th></th>\n",
       "      <th>student_name</th>\n",
       "      <th>math_scores</th>\n",
       "      <th>chemistry_scores</th>\n",
       "      <th>information_technology_scores</th>\n",
       "      <th>physics_scores</th>\n",
       "      <th>total_score</th>\n",
       "      <th>average_score</th>\n",
       "    </tr>\n",
       "  </thead>\n",
       "  <tbody>\n",
       "    <tr>\n",
       "      <th>0</th>\n",
       "      <td>Jay</td>\n",
       "      <td>20</td>\n",
       "      <td>32</td>\n",
       "      <td>34</td>\n",
       "      <td>6</td>\n",
       "      <td>92</td>\n",
       "      <td>23.00</td>\n",
       "    </tr>\n",
       "    <tr>\n",
       "      <th>1</th>\n",
       "      <td>Aaryan</td>\n",
       "      <td>56</td>\n",
       "      <td>36</td>\n",
       "      <td>6</td>\n",
       "      <td>88</td>\n",
       "      <td>186</td>\n",
       "      <td>46.50</td>\n",
       "    </tr>\n",
       "    <tr>\n",
       "      <th>2</th>\n",
       "      <td>Sahil</td>\n",
       "      <td>76</td>\n",
       "      <td>78</td>\n",
       "      <td>88</td>\n",
       "      <td>48</td>\n",
       "      <td>290</td>\n",
       "      <td>72.50</td>\n",
       "    </tr>\n",
       "    <tr>\n",
       "      <th>3</th>\n",
       "      <td>Riya</td>\n",
       "      <td>78</td>\n",
       "      <td>23</td>\n",
       "      <td>100</td>\n",
       "      <td>90</td>\n",
       "      <td>291</td>\n",
       "      <td>72.75</td>\n",
       "    </tr>\n",
       "    <tr>\n",
       "      <th>4</th>\n",
       "      <td>Shubh</td>\n",
       "      <td>90</td>\n",
       "      <td>100</td>\n",
       "      <td>45</td>\n",
       "      <td>25</td>\n",
       "      <td>260</td>\n",
       "      <td>65.00</td>\n",
       "    </tr>\n",
       "  </tbody>\n",
       "</table>\n",
       "</div>"
      ],
      "text/plain": [
       "  student_name  math_scores  chemistry_scores  information_technology_scores  \\\n",
       "0          Jay           20                32                             34   \n",
       "1       Aaryan           56                36                              6   \n",
       "2        Sahil           76                78                             88   \n",
       "3         Riya           78                23                            100   \n",
       "4        Shubh           90               100                             45   \n",
       "\n",
       "   physics_scores  total_score  average_score  \n",
       "0               6           92          23.00  \n",
       "1              88          186          46.50  \n",
       "2              48          290          72.50  \n",
       "3              90          291          72.75  \n",
       "4              25          260          65.00  "
      ]
     },
     "execution_count": 16,
     "metadata": {},
     "output_type": "execute_result"
    }
   ],
   "source": [
    "# Create a column called \"average score\"\n",
    "scores_df[\"average_score\"] = scores_df[\"total_score\"]/4\n",
    "scores_df"
   ]
  },
  {
   "cell_type": "code",
   "execution_count": 17,
   "id": "7248edd4",
   "metadata": {},
   "outputs": [],
   "source": [
    "# Making our score in csv file\n",
    "scores_df.to_csv(\"Report Card.csv\")"
   ]
  },
  {
   "cell_type": "code",
   "execution_count": 18,
   "id": "f5db03ed",
   "metadata": {},
   "outputs": [
    {
     "data": {
      "text/html": [
       "<div>\n",
       "<style scoped>\n",
       "    .dataframe tbody tr th:only-of-type {\n",
       "        vertical-align: middle;\n",
       "    }\n",
       "\n",
       "    .dataframe tbody tr th {\n",
       "        vertical-align: top;\n",
       "    }\n",
       "\n",
       "    .dataframe thead th {\n",
       "        text-align: right;\n",
       "    }\n",
       "</style>\n",
       "<table border=\"1\" class=\"dataframe\">\n",
       "  <thead>\n",
       "    <tr style=\"text-align: right;\">\n",
       "      <th></th>\n",
       "      <th>math_scores</th>\n",
       "      <th>chemistry_scores</th>\n",
       "      <th>information_technology_scores</th>\n",
       "      <th>physics_scores</th>\n",
       "      <th>total_score</th>\n",
       "      <th>average_score</th>\n",
       "    </tr>\n",
       "  </thead>\n",
       "  <tbody>\n",
       "    <tr>\n",
       "      <th>count</th>\n",
       "      <td>5.00000</td>\n",
       "      <td>5.00000</td>\n",
       "      <td>5.000000</td>\n",
       "      <td>5.000000</td>\n",
       "      <td>5.00000</td>\n",
       "      <td>5.000000</td>\n",
       "    </tr>\n",
       "    <tr>\n",
       "      <th>mean</th>\n",
       "      <td>64.00000</td>\n",
       "      <td>53.80000</td>\n",
       "      <td>54.600000</td>\n",
       "      <td>51.400000</td>\n",
       "      <td>223.80000</td>\n",
       "      <td>55.950000</td>\n",
       "    </tr>\n",
       "    <tr>\n",
       "      <th>std</th>\n",
       "      <td>27.45906</td>\n",
       "      <td>33.39461</td>\n",
       "      <td>38.907583</td>\n",
       "      <td>37.413901</td>\n",
       "      <td>85.15985</td>\n",
       "      <td>21.289962</td>\n",
       "    </tr>\n",
       "    <tr>\n",
       "      <th>min</th>\n",
       "      <td>20.00000</td>\n",
       "      <td>23.00000</td>\n",
       "      <td>6.000000</td>\n",
       "      <td>6.000000</td>\n",
       "      <td>92.00000</td>\n",
       "      <td>23.000000</td>\n",
       "    </tr>\n",
       "    <tr>\n",
       "      <th>25%</th>\n",
       "      <td>56.00000</td>\n",
       "      <td>32.00000</td>\n",
       "      <td>34.000000</td>\n",
       "      <td>25.000000</td>\n",
       "      <td>186.00000</td>\n",
       "      <td>46.500000</td>\n",
       "    </tr>\n",
       "    <tr>\n",
       "      <th>50%</th>\n",
       "      <td>76.00000</td>\n",
       "      <td>36.00000</td>\n",
       "      <td>45.000000</td>\n",
       "      <td>48.000000</td>\n",
       "      <td>260.00000</td>\n",
       "      <td>65.000000</td>\n",
       "    </tr>\n",
       "    <tr>\n",
       "      <th>75%</th>\n",
       "      <td>78.00000</td>\n",
       "      <td>78.00000</td>\n",
       "      <td>88.000000</td>\n",
       "      <td>88.000000</td>\n",
       "      <td>290.00000</td>\n",
       "      <td>72.500000</td>\n",
       "    </tr>\n",
       "    <tr>\n",
       "      <th>max</th>\n",
       "      <td>90.00000</td>\n",
       "      <td>100.00000</td>\n",
       "      <td>100.000000</td>\n",
       "      <td>90.000000</td>\n",
       "      <td>291.00000</td>\n",
       "      <td>72.750000</td>\n",
       "    </tr>\n",
       "  </tbody>\n",
       "</table>\n",
       "</div>"
      ],
      "text/plain": [
       "       math_scores  chemistry_scores  information_technology_scores  \\\n",
       "count      5.00000           5.00000                       5.000000   \n",
       "mean      64.00000          53.80000                      54.600000   \n",
       "std       27.45906          33.39461                      38.907583   \n",
       "min       20.00000          23.00000                       6.000000   \n",
       "25%       56.00000          32.00000                      34.000000   \n",
       "50%       76.00000          36.00000                      45.000000   \n",
       "75%       78.00000          78.00000                      88.000000   \n",
       "max       90.00000         100.00000                     100.000000   \n",
       "\n",
       "       physics_scores  total_score  average_score  \n",
       "count        5.000000      5.00000       5.000000  \n",
       "mean        51.400000    223.80000      55.950000  \n",
       "std         37.413901     85.15985      21.289962  \n",
       "min          6.000000     92.00000      23.000000  \n",
       "25%         25.000000    186.00000      46.500000  \n",
       "50%         48.000000    260.00000      65.000000  \n",
       "75%         88.000000    290.00000      72.500000  \n",
       "max         90.000000    291.00000      72.750000  "
      ]
     },
     "execution_count": 18,
     "metadata": {},
     "output_type": "execute_result"
    }
   ],
   "source": [
    "# Making an insights dataframe\n",
    "insights_df = scores_df.describe()\n",
    "insights_df"
   ]
  },
  {
   "cell_type": "code",
   "execution_count": 20,
   "id": "a3c95d24",
   "metadata": {},
   "outputs": [],
   "source": [
    "insights_df.to_csv(\"Report Card Insights.csv\")"
   ]
  },
  {
   "cell_type": "code",
   "execution_count": null,
   "id": "79822db5",
   "metadata": {},
   "outputs": [],
   "source": []
  }
 ],
 "metadata": {
  "kernelspec": {
   "display_name": "Python 3",
   "language": "python",
   "name": "python3"
  },
  "language_info": {
   "codemirror_mode": {
    "name": "ipython",
    "version": 3
   },
   "file_extension": ".py",
   "mimetype": "text/x-python",
   "name": "python",
   "nbconvert_exporter": "python",
   "pygments_lexer": "ipython3",
   "version": "3.8.8"
  }
 },
 "nbformat": 4,
 "nbformat_minor": 5
}
